{
 "cells": [
  {
   "cell_type": "code",
   "execution_count": 7,
   "metadata": {},
   "outputs": [],
   "source": [
    "import librosa, numpy as np, librosa.display\n",
    "from scipy.signal import hilbert, filtfilt, butter"
   ]
  },
  {
   "cell_type": "code",
   "execution_count": 8,
   "metadata": {},
   "outputs": [
    {
     "data": {
      "text/plain": [
       "61.03763987792472"
      ]
     },
     "execution_count": 8,
     "metadata": {},
     "output_type": "execute_result"
    }
   ],
   "source": [
    " def heart_rate(y, fs):\n",
    "    def homomorphic_envelope(y, fs, f_LPF=8, order=3):\n",
    "        b, a = butter(order, 2 * f_LPF / fs, 'low')\n",
    "        he = np.exp(filtfilt(b, a, np.log(np.abs(hilbert(y)))))\n",
    "        return he\n",
    "    \n",
    "    he = homomorphic_envelope(y, fs)\n",
    "    x = he - np.mean(he);\n",
    "    \n",
    "    corr = np.correlate(x, x, mode='full')\n",
    "    corr = corr[int(corr.size/2):]\n",
    "\n",
    "    min_index = int(0.5*fs)\n",
    "    max_index = int(2*fs)\n",
    "\n",
    "    index = np.argmax(corr[min_index:max_index])\n",
    "    true_index = index+min_index\n",
    "\n",
    "    heartRate = 60/(true_index/fs)\n",
    "    \n",
    "    return heartRate\n",
    "\n",
    "y, fs = librosa.load('../tranining/training-a/a0001.wav', sr=None)\n",
    "heart_rate(y, fs)"
   ]
  },
  {
   "cell_type": "markdown",
   "metadata": {},
   "source": [
    "https://github.com/JJGO/DTW_physionet2016/blob/master/features.py"
   ]
  }
 ],
 "metadata": {
  "kernelspec": {
   "display_name": "Python 3",
   "language": "python",
   "name": "python3"
  },
  "language_info": {
   "codemirror_mode": {
    "name": "ipython",
    "version": 3
   },
   "file_extension": ".py",
   "mimetype": "text/x-python",
   "name": "python",
   "nbconvert_exporter": "python",
   "pygments_lexer": "ipython3",
   "version": "3.6.9"
  }
 },
 "nbformat": 4,
 "nbformat_minor": 2
}
